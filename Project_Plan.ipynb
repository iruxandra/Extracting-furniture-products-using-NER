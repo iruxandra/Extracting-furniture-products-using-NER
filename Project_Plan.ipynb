{
 "cells": [
  {
   "cell_type": "markdown",
   "id": "d548e4e7",
   "metadata": {},
   "source": [
    "# Approach and notes\n",
    "\n",
    "- Spacey identifies tokens in text\n",
    "- Need to look at the HTML and select the body of the text (make sure it contains the product names - found in headers)\n",
    "- Would crawl the text from web pages using BeautifulSoup\n",
    "- Add extension that removes 404 error websites\n",
    "- Save this to a new data frame (add column with HTML text for each website)\n",
    "- Using spacey ent.label_=='PRODUCT' add tokens and identify all products in the body of text\n",
    "- Use displacy to see what it has selected\n",
    "- If not all words are found then add matchers for extra tokens\n",
    "- Create a new data frame that stores approx. 100 pages\n",
    "\n",
    "# Machine Learning Part\n",
    "- Data preprocessing for machine learning:\n",
    "        - Need to label in new data frame the links and products that were not correctly identified\n",
    "        - How the labelling will work: 0 if there is no Furniture Product in the title and 1 if there is a Furniture Product in the title\n",
    "        - Will perform this step in excel on the new data frame and save labelled file as a .txt file.\n",
    "        \n",
    "        \n",
    "        - Create training set from labelled file (selecting 80% of the data)\n",
    "        - Create validation and testing set\n",
    "        - Train model\n",
    "        - Validate model (on the remaining 20% of the data)\n",
    "        - Train the pipeline using spacy\n",
    "        - Test the pipeline on the remaining data\n",
    "        - Test on simple text to check for accuracy\n"
   ]
  },
  {
   "cell_type": "markdown",
   "id": "79832ec9",
   "metadata": {},
   "source": [
    "# General idea and problem understanding\n",
    " \n",
    " nlp.pipe(text) -> doc.ents, where our entity of interest if FURNITURE PRODUCTS\n",
    " \n",
    " There are two ways of finding these entities:\n",
    " - Matcher object\n",
    " - Machine Learning approach"
   ]
  },
  {
   "cell_type": "markdown",
   "id": "3d5314bf",
   "metadata": {},
   "source": [
    "# Improvements and optimisation notes for ML model:\n",
    "\n",
    "! Notes on final results: \n",
    "    - ML model recognised 'mattress' and 'desk' in sample text as correct furniture products but also labelled verbs and other words as furniture products\n",
    "    - ML model is not accurate and seems to tag letters instead of nouns when trying to recognise furniture products\n",
    "\n",
    "\n",
    "Fixed:\n",
    "    - Stripped training and testing sets text of \"\\n\" and other miscellaneous characters \n",
    "\n",
    "! How to potentially fix further: \n",
    "    - Convert the text files to the spacy training format (sentence, {entities : [(start, end, label), (stard, end, label)]})\n",
    "    - Run training and testing again\n",
    " \n",
    "Future work:\n",
    "    - Data clean up after parsing the HTML from websites (removing miscellaneous characters from list of furniture products)\n",
    "    - Create a more efficient labelling system\n",
    "    - Using a larger number of crawled web pages to increase training data\n",
    "    - For accuracy: increasing the number of epochs in config cfg file "
   ]
  },
  {
   "cell_type": "markdown",
   "id": "0d8db36c",
   "metadata": {},
   "source": [
    "# Materials used:\n",
    "\n",
    "- https://www.youtube.com/watch?v=WnGPv6HnBok&t=1268s\n",
    "- https://towardsdatascience.com/named-entity-recognition-ner-using-spacy-nlp-part-4-28da2ece57c6\n",
    "- https://www.youtube.com/watch?v=Nv3TqzT2RLI\n",
    "- Spacy documentation"
   ]
  }
 ],
 "metadata": {
  "kernelspec": {
   "display_name": "Python 3",
   "language": "python",
   "name": "python3"
  },
  "language_info": {
   "codemirror_mode": {
    "name": "ipython",
    "version": 3
   },
   "file_extension": ".py",
   "mimetype": "text/x-python",
   "name": "python",
   "nbconvert_exporter": "python",
   "pygments_lexer": "ipython3",
   "version": "3.8.8"
  }
 },
 "nbformat": 4,
 "nbformat_minor": 5
}
